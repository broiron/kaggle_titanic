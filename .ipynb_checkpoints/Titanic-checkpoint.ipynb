{
 "cells": [
  {
   "cell_type": "markdown",
   "id": "af463ac3",
   "metadata": {},
   "source": [
    "# Titanic Kaggle Coding Club"
   ]
  },
  {
   "cell_type": "markdown",
   "id": "56bcf75c",
   "metadata": {},
   "source": [
    "1. train.csv:\n",
    "train.csv는 탑승한 승객들 정보를 .csv파일 형태로 가지고 있음. <br>\n",
    "(엑셀 파일 형태로 정리되어 있다고 생각) <br>\n",
    "총 891명의 승객 정보를 가지고 있음\n",
    "- Survied column이 target column -> 우리가 예측해야하는 특징값 (feature)\n",
    "    - \"1\"이면 살아 남은 것, \"0\"이면 죽은 것\n",
    "\n",
    "2. test.csv:\n",
    "test.csv 역시 탑승한 승객들 정보를 .csv 파일 형태로 가지고 있음. <br>\n",
    "(엑셀 파일 형태로 정리되어 있다고 생각) <br>\n",
    "총 418명의 승객 정보를 가지고 있음.\n",
    "- test.csv에는 \"Survived\" column이 없음\n",
    "    - 가려져 있고 나는 알 수 없음 -> 검사할 때 알려줌\n",
    "\n",
    "3. gender_submission.csv:\n",
    "예측 csv파일을 어떻게 만들어야 하는지 예시를 보여줌\n",
    "- submission file에는 \"PassengerId\"랑 \"Survived\" column이 있어야함\n"
   ]
  },
  {
   "cell_type": "markdown",
   "id": "f9e48073",
   "metadata": {},
   "source": [
    "### Step 1 : Data download\n",
    "1. `pip install kaggle` -> 오류 발생 시 `pip install --user kaggle`\n",
    "\n",
    "2. API Key 발급\n",
    "\n",
    "API credentials\n",
    "To use the Kaggle API, sign up for a Kaggle account at https://www.kaggle.com. Then go to the 'Account' tab of your user profile (https://www.kaggle.com/<username>/account) and select 'Create API Token'. This will trigger the download of kaggle.json, a file containing your API credentials. Place this file in the location ~/.kaggle/kaggle.json (on Windows in the location C:\\Users\\<Windows-username>\\.kaggle\\kaggle.json - you can check the exact location, sans drive, with echo %HOMEPATH%). You can define a shell environment variable KAGGLE_CONFIG_DIR to change this location to $KAGGLE_CONFIG_DIR/kaggle.json (on Windows it will be %KAGGLE_CONFIG_DIR%\\kaggle.json).\n",
    "\n",
    "For your security, ensure that other users of your computer do not have read access to your credentials. On Unix-based systems you can do this with the following command:\n",
    "\n",
    "chmod 600 ~/.kaggle/kaggle.json\n",
    "\n",
    "You can also choose to export your Kaggle username and token to the environment:\n",
    "\n",
    "export KAGGLE_USERNAME=datadinosaur\n",
    "export KAGGLE_KEY=xxxxxxxxxxxxxx\n",
    "In addition, you can export any other configuration value that normally would be in the $HOME/.kaggle/kaggle.json in the format 'KAGGLE_' (note uppercase).\n",
    "For example, if the file had the variable \"proxy\" you would export KAGGLE_PROXY and it would be discovered by the client."
   ]
  },
  {
   "cell_type": "markdown",
   "id": "4da61f21",
   "metadata": {},
   "source": [
    "- 혹은 아래 블로그 참고\n",
    "https://polarcompass.tistory.com/147"
   ]
  },
  {
   "cell_type": "markdown",
   "id": "2dfb3a94",
   "metadata": {},
   "source": [
    "설치 완료 후 아래 명령어 수행<br>\n",
    "`kaggle competitions download -c titanic`"
   ]
  },
  {
   "cell_type": "markdown",
   "id": "d725c886",
   "metadata": {},
   "source": [
    "### import packages"
   ]
  },
  {
   "cell_type": "code",
   "execution_count": 3,
   "id": "efc44008",
   "metadata": {},
   "outputs": [
    {
     "name": "stdout",
     "output_type": "stream",
     "text": [
      "./data/test.csv\n",
      "./data/train.csv\n",
      "./data/gender_submission.csv\n"
     ]
    }
   ],
   "source": [
    "import numpy as np # 선형 대수를 위한 package\n",
    "import pandas as pd # 데이터 처리를 위한 package -> .csv파일 읽고 쓰기\n",
    "import os\n",
    "\n",
    "# data 파일에 train, test 데이터가 있는지 확인\n",
    "for dirname, _, filenames in os.walk('./data/'):\n",
    "    for filename in filenames:\n",
    "        print(os.path.join(dirname, filename))"
   ]
  },
  {
   "cell_type": "markdown",
   "id": "c8b380ca",
   "metadata": {},
   "source": [
    "### load dataset"
   ]
  },
  {
   "cell_type": "code",
   "execution_count": 4,
   "id": "35d71ed2",
   "metadata": {},
   "outputs": [
    {
     "data": {
      "text/html": [
       "<div>\n",
       "<style scoped>\n",
       "    .dataframe tbody tr th:only-of-type {\n",
       "        vertical-align: middle;\n",
       "    }\n",
       "\n",
       "    .dataframe tbody tr th {\n",
       "        vertical-align: top;\n",
       "    }\n",
       "\n",
       "    .dataframe thead th {\n",
       "        text-align: right;\n",
       "    }\n",
       "</style>\n",
       "<table border=\"1\" class=\"dataframe\">\n",
       "  <thead>\n",
       "    <tr style=\"text-align: right;\">\n",
       "      <th></th>\n",
       "      <th>PassengerId</th>\n",
       "      <th>Survived</th>\n",
       "      <th>Pclass</th>\n",
       "      <th>Name</th>\n",
       "      <th>Sex</th>\n",
       "      <th>Age</th>\n",
       "      <th>SibSp</th>\n",
       "      <th>Parch</th>\n",
       "      <th>Ticket</th>\n",
       "      <th>Fare</th>\n",
       "      <th>Cabin</th>\n",
       "      <th>Embarked</th>\n",
       "    </tr>\n",
       "  </thead>\n",
       "  <tbody>\n",
       "    <tr>\n",
       "      <th>0</th>\n",
       "      <td>1</td>\n",
       "      <td>0</td>\n",
       "      <td>3</td>\n",
       "      <td>Braund, Mr. Owen Harris</td>\n",
       "      <td>male</td>\n",
       "      <td>22.0</td>\n",
       "      <td>1</td>\n",
       "      <td>0</td>\n",
       "      <td>A/5 21171</td>\n",
       "      <td>7.2500</td>\n",
       "      <td>NaN</td>\n",
       "      <td>S</td>\n",
       "    </tr>\n",
       "    <tr>\n",
       "      <th>1</th>\n",
       "      <td>2</td>\n",
       "      <td>1</td>\n",
       "      <td>1</td>\n",
       "      <td>Cumings, Mrs. John Bradley (Florence Briggs Th...</td>\n",
       "      <td>female</td>\n",
       "      <td>38.0</td>\n",
       "      <td>1</td>\n",
       "      <td>0</td>\n",
       "      <td>PC 17599</td>\n",
       "      <td>71.2833</td>\n",
       "      <td>C85</td>\n",
       "      <td>C</td>\n",
       "    </tr>\n",
       "    <tr>\n",
       "      <th>2</th>\n",
       "      <td>3</td>\n",
       "      <td>1</td>\n",
       "      <td>3</td>\n",
       "      <td>Heikkinen, Miss. Laina</td>\n",
       "      <td>female</td>\n",
       "      <td>26.0</td>\n",
       "      <td>0</td>\n",
       "      <td>0</td>\n",
       "      <td>STON/O2. 3101282</td>\n",
       "      <td>7.9250</td>\n",
       "      <td>NaN</td>\n",
       "      <td>S</td>\n",
       "    </tr>\n",
       "    <tr>\n",
       "      <th>3</th>\n",
       "      <td>4</td>\n",
       "      <td>1</td>\n",
       "      <td>1</td>\n",
       "      <td>Futrelle, Mrs. Jacques Heath (Lily May Peel)</td>\n",
       "      <td>female</td>\n",
       "      <td>35.0</td>\n",
       "      <td>1</td>\n",
       "      <td>0</td>\n",
       "      <td>113803</td>\n",
       "      <td>53.1000</td>\n",
       "      <td>C123</td>\n",
       "      <td>S</td>\n",
       "    </tr>\n",
       "    <tr>\n",
       "      <th>4</th>\n",
       "      <td>5</td>\n",
       "      <td>0</td>\n",
       "      <td>3</td>\n",
       "      <td>Allen, Mr. William Henry</td>\n",
       "      <td>male</td>\n",
       "      <td>35.0</td>\n",
       "      <td>0</td>\n",
       "      <td>0</td>\n",
       "      <td>373450</td>\n",
       "      <td>8.0500</td>\n",
       "      <td>NaN</td>\n",
       "      <td>S</td>\n",
       "    </tr>\n",
       "  </tbody>\n",
       "</table>\n",
       "</div>"
      ],
      "text/plain": [
       "   PassengerId  Survived  Pclass  \\\n",
       "0            1         0       3   \n",
       "1            2         1       1   \n",
       "2            3         1       3   \n",
       "3            4         1       1   \n",
       "4            5         0       3   \n",
       "\n",
       "                                                Name     Sex   Age  SibSp  \\\n",
       "0                            Braund, Mr. Owen Harris    male  22.0      1   \n",
       "1  Cumings, Mrs. John Bradley (Florence Briggs Th...  female  38.0      1   \n",
       "2                             Heikkinen, Miss. Laina  female  26.0      0   \n",
       "3       Futrelle, Mrs. Jacques Heath (Lily May Peel)  female  35.0      1   \n",
       "4                           Allen, Mr. William Henry    male  35.0      0   \n",
       "\n",
       "   Parch            Ticket     Fare Cabin Embarked  \n",
       "0      0         A/5 21171   7.2500   NaN        S  \n",
       "1      0          PC 17599  71.2833   C85        C  \n",
       "2      0  STON/O2. 3101282   7.9250   NaN        S  \n",
       "3      0            113803  53.1000  C123        S  \n",
       "4      0            373450   8.0500   NaN        S  "
      ]
     },
     "execution_count": 4,
     "metadata": {},
     "output_type": "execute_result"
    }
   ],
   "source": [
    "train_data = pd.read_csv(\"./data/train.csv\") # load train data\n",
    "train_data.head() # csv파일의 위에 5개 요소 출력 \n",
    "# 엑셀파일에서 맨 위에 5개 요소 출력해준다고 생각 -> 프린트 된거 보면 엑셀 같쥬?"
   ]
  },
  {
   "cell_type": "code",
   "execution_count": 7,
   "id": "1ce50aa3",
   "metadata": {},
   "outputs": [
    {
     "data": {
      "text/html": [
       "<div>\n",
       "<style scoped>\n",
       "    .dataframe tbody tr th:only-of-type {\n",
       "        vertical-align: middle;\n",
       "    }\n",
       "\n",
       "    .dataframe tbody tr th {\n",
       "        vertical-align: top;\n",
       "    }\n",
       "\n",
       "    .dataframe thead th {\n",
       "        text-align: right;\n",
       "    }\n",
       "</style>\n",
       "<table border=\"1\" class=\"dataframe\">\n",
       "  <thead>\n",
       "    <tr style=\"text-align: right;\">\n",
       "      <th></th>\n",
       "      <th>PassengerId</th>\n",
       "      <th>Pclass</th>\n",
       "      <th>Name</th>\n",
       "      <th>Sex</th>\n",
       "      <th>Age</th>\n",
       "      <th>SibSp</th>\n",
       "      <th>Parch</th>\n",
       "      <th>Ticket</th>\n",
       "      <th>Fare</th>\n",
       "      <th>Cabin</th>\n",
       "      <th>Embarked</th>\n",
       "    </tr>\n",
       "  </thead>\n",
       "  <tbody>\n",
       "    <tr>\n",
       "      <th>0</th>\n",
       "      <td>892</td>\n",
       "      <td>3</td>\n",
       "      <td>Kelly, Mr. James</td>\n",
       "      <td>male</td>\n",
       "      <td>34.5</td>\n",
       "      <td>0</td>\n",
       "      <td>0</td>\n",
       "      <td>330911</td>\n",
       "      <td>7.8292</td>\n",
       "      <td>NaN</td>\n",
       "      <td>Q</td>\n",
       "    </tr>\n",
       "    <tr>\n",
       "      <th>1</th>\n",
       "      <td>893</td>\n",
       "      <td>3</td>\n",
       "      <td>Wilkes, Mrs. James (Ellen Needs)</td>\n",
       "      <td>female</td>\n",
       "      <td>47.0</td>\n",
       "      <td>1</td>\n",
       "      <td>0</td>\n",
       "      <td>363272</td>\n",
       "      <td>7.0000</td>\n",
       "      <td>NaN</td>\n",
       "      <td>S</td>\n",
       "    </tr>\n",
       "    <tr>\n",
       "      <th>2</th>\n",
       "      <td>894</td>\n",
       "      <td>2</td>\n",
       "      <td>Myles, Mr. Thomas Francis</td>\n",
       "      <td>male</td>\n",
       "      <td>62.0</td>\n",
       "      <td>0</td>\n",
       "      <td>0</td>\n",
       "      <td>240276</td>\n",
       "      <td>9.6875</td>\n",
       "      <td>NaN</td>\n",
       "      <td>Q</td>\n",
       "    </tr>\n",
       "    <tr>\n",
       "      <th>3</th>\n",
       "      <td>895</td>\n",
       "      <td>3</td>\n",
       "      <td>Wirz, Mr. Albert</td>\n",
       "      <td>male</td>\n",
       "      <td>27.0</td>\n",
       "      <td>0</td>\n",
       "      <td>0</td>\n",
       "      <td>315154</td>\n",
       "      <td>8.6625</td>\n",
       "      <td>NaN</td>\n",
       "      <td>S</td>\n",
       "    </tr>\n",
       "    <tr>\n",
       "      <th>4</th>\n",
       "      <td>896</td>\n",
       "      <td>3</td>\n",
       "      <td>Hirvonen, Mrs. Alexander (Helga E Lindqvist)</td>\n",
       "      <td>female</td>\n",
       "      <td>22.0</td>\n",
       "      <td>1</td>\n",
       "      <td>1</td>\n",
       "      <td>3101298</td>\n",
       "      <td>12.2875</td>\n",
       "      <td>NaN</td>\n",
       "      <td>S</td>\n",
       "    </tr>\n",
       "  </tbody>\n",
       "</table>\n",
       "</div>"
      ],
      "text/plain": [
       "   PassengerId  Pclass                                          Name     Sex  \\\n",
       "0          892       3                              Kelly, Mr. James    male   \n",
       "1          893       3              Wilkes, Mrs. James (Ellen Needs)  female   \n",
       "2          894       2                     Myles, Mr. Thomas Francis    male   \n",
       "3          895       3                              Wirz, Mr. Albert    male   \n",
       "4          896       3  Hirvonen, Mrs. Alexander (Helga E Lindqvist)  female   \n",
       "\n",
       "    Age  SibSp  Parch   Ticket     Fare Cabin Embarked  \n",
       "0  34.5      0      0   330911   7.8292   NaN        Q  \n",
       "1  47.0      1      0   363272   7.0000   NaN        S  \n",
       "2  62.0      0      0   240276   9.6875   NaN        Q  \n",
       "3  27.0      0      0   315154   8.6625   NaN        S  \n",
       "4  22.0      1      1  3101298  12.2875   NaN        S  "
      ]
     },
     "execution_count": 7,
     "metadata": {},
     "output_type": "execute_result"
    }
   ],
   "source": [
    "# 동일한 방법으로 test dataset 로드\n",
    "test_data = pd.read_csv(\"./data/test.csv\")\n",
    "test_data.head()"
   ]
  },
  {
   "cell_type": "markdown",
   "id": "ce439c71",
   "metadata": {},
   "source": [
    "### 우리의 목표\n",
    "- train.csv에서 패턴을 찾아서, test.csv에 있는 승객들이 살았는지 죽었는지 예측 하는 것\n",
    "\n",
    "- gender_submission.csv를 보고 패턴을 파악해보자\n",
    "    - gender_submission.csv는 모든 여성 승객들이 살고, 남성 승객들이 죽었다고 가정(예측)하였다.<br> \n",
    "        -> 이 예측이 합리적인가 확인해봅시다 == 모든 여성이 살고 남성이 죽었다는 패턴이 합리적인지 확인해보자\n",
    "- how?\n",
    "    - train.csv의 패턴을 파악해서, 정말 여성 승객들이 얼마나 살았는지 그 패턴을 한번 봐보자 이 말임."
   ]
  },
  {
   "cell_type": "code",
   "execution_count": 12,
   "id": "a0c0a65a",
   "metadata": {
    "scrolled": true
   },
   "outputs": [
    {
     "name": "stdout",
     "output_type": "stream",
     "text": [
      "% of women who survived:  0.7420382165605095\n"
     ]
    }
   ],
   "source": [
    "# train_data에서 여성 (Sex=='female') 인 사람들만 추출하고 그 중 \"Survived\" column값만 가져옴\n",
    "women = train_data.loc[train_data.Sex == 'female'][\"Survived\"]\n",
    "# 살아남았으면 1이고, 아니면 0이니까 survived column값을 다 더하면 살아남은 여성들의 수를 구할 수 있음 -> sum(women)을 쓰는 이유\n",
    "# len(women)은 해당 dataframe의 길이를 반환 -> women만 추출된 데이터의 길이\n",
    "rate_women = sum(women)/len(women)\n",
    "\n",
    "# 살아남은 여성의 비율을 출력\n",
    "print(\"% of women who survived: \", rate_women)"
   ]
  },
  {
   "cell_type": "code",
   "execution_count": 13,
   "id": "2f57854c",
   "metadata": {},
   "outputs": [
    {
     "name": "stdout",
     "output_type": "stream",
     "text": [
      "% of men who survived:  0.18890814558058924\n"
     ]
    }
   ],
   "source": [
    "# 위와 같은 방법으로 살아남은 남성의 비율을 출력 \n",
    "\n",
    "men = train_data.loc[train_data.Sex=='male'][\"Survived\"]\n",
    "rate_men = sum(men)/len(men)\n",
    "\n",
    "print(\"% of men who survived: \", rate_men)"
   ]
  },
  {
   "cell_type": "markdown",
   "id": "db260f07",
   "metadata": {},
   "source": [
    "### 패턴 분석\n",
    "- 약 75프로의 여성이 살아남았고, 19프로의 남성이 살아남음.\n",
    "- 꽤 괜찮은 경향성이지만 아직 많이 부족<br>\n",
    "    -> 이렇게 되면 입력 데이터가 여성이면 15% 오류 발생 가능성, 남성이면 18% 오류 발생 가능성 존재\n",
    "- gender_based submission은 오직 `Sex`라는 하나의 feature column (특징값)만 고려해서 살았는지 죽었는지 판단 -> 다른 요소들은 깡그리 무시\n",
    "\n",
    "- 여러개의 column(승객의 특징)들을 결합하여 더 복잡한 패턴을 발견할 수 있고, 이것은 더 좋은 예측으로 이끈다."
   ]
  },
  {
   "cell_type": "markdown",
   "id": "60926900",
   "metadata": {},
   "source": [
    "### Random forest model을 사용해보자\n",
    "\n",
    "- 마치 아키네이터처럼 승객이 죽었는지 살았는지 판단\n",
    "- 예를들면:\n",
    "    - question 1: 승객이 남자인가 여자인가\n",
    "    - question 2-1: 남자라면 1등석에 탔는가 2등석에 탔는가 3등석에 탔는가\n",
    "    - question 3-1-1: 남자인데 1등석에 탔다면 동승자가 1명인가 2명인가 ...\n",
    "    - ...(이어지는 질문)\n",
    "    - 남자고, 1등석에 탔고, 동승자가 2명이고, ... , 는 대체로 죽었다. 라는 패턴 파악 <br>\n",
    "        -> 이를 근거로 판단\n",
    "- sklearn.ensemble에서 RandomForestClassifier 모델을 import 해서 사용"
   ]
  },
  {
   "cell_type": "code",
   "execution_count": 14,
   "id": "0f18f680",
   "metadata": {},
   "outputs": [
    {
     "name": "stdout",
     "output_type": "stream",
     "text": [
      "Your submission was successfully saved!\n"
     ]
    }
   ],
   "source": [
    "# package import\n",
    "from sklearn.ensemble import RandomForestClassifier\n",
    "\n",
    "y = train_data[\"Survived\"] # 죽었는지 살았는지 정답만 추출 = y\n",
    "\n",
    "# 4개의 특성 (객실 등급, 성별, 형제 or 배우자 수, 부모 or 자녀 수)만 패턴 파악에 고려\n",
    "features = [\"Pclass\", \"Sex\", \"SibSp\", \"Parch\"] \n",
    "\n",
    "# pd.get_dummies: 모든 데이터를 수치로 변환해주는 전처리 작업\n",
    "# 예를들어 월, 화, 수, 목, 금 과 같이 표현되어 있는 데이터를 (0, 1, 2, 3, ...)으로 나타내줌\n",
    "# 사실 0, 1, 2로 표현 안하고 (0, 1, 2에 이미 수치적 의미가 있기 때문 -> 화요일이 월요일보다 큰 수를 가질 이유가 없잖아)\n",
    "# 월 = (1, 0, 0, ...), 화 = (0, 1, 0, ...), 수 = (0, 0, 1, ...)로 표현\n",
    "X = pd.get_dummies(train_data[features]) # train_data\n",
    "\n",
    "X_test = pd.get_dummies(test_data[features]) # test_data: test data로 train data와 같은 전처리를 가짐\n",
    "\n",
    "#모델 객체 생성\n",
    "model = RandomForestClassifier(n_estimators=100, max_depth=5, random_state=1)\n",
    "\n",
    "#.fit()함수는 그냥 학습하는 거라고 생각하면 됌\n",
    "# 더 정확한 알고리즘은 2학년 or 3학년때 배워용\n",
    "model.fit(X, y)\n",
    "\n",
    "# .fit을 통해 훈련된 model을 가지고 predict\n",
    "predictions = model.predict(X_test)\n",
    "\n",
    "# 제출할 수 있도록 \"PassengerId\" column과 \"Survived\" column만 남긴 Dataframe을 만듬\n",
    "output = pd.DataFrame({'PassengerId': test_data.PassengerId, 'Survived': predictions})\n",
    "# 이걸 .csv 파일로 생성 -> 사이트에 제출하려고\n",
    "output.to_csv('submission.csv', index=False)\n",
    "\n",
    "print(\"Your submission was successfully saved!\")"
   ]
  },
  {
   "cell_type": "markdown",
   "id": "ca846afd",
   "metadata": {},
   "source": [
    "### Submit"
   ]
  },
  {
   "cell_type": "markdown",
   "id": "cc9039fa",
   "metadata": {},
   "source": [
    "- -c option: competition name\n",
    "- -f option: submission csv file name\n",
    "- -m option: submission description (설명글)"
   ]
  },
  {
   "cell_type": "code",
   "execution_count": 15,
   "id": "5096b0a8",
   "metadata": {},
   "outputs": [
    {
     "name": "stdout",
     "output_type": "stream",
     "text": [
      "100%|████████████████████████████████████████| 2.77k/2.77k [00:03<00:00, 801B/s]\n",
      "Successfully submitted to Titanic - Machine Learning from Disaster"
     ]
    }
   ],
   "source": [
    "!kaggle competitions submit -c titanic -f submission.csv -m \"tutorial\""
   ]
  },
  {
   "cell_type": "markdown",
   "id": "4fa04eb5",
   "metadata": {},
   "source": [
    "### view results"
   ]
  },
  {
   "cell_type": "code",
   "execution_count": 16,
   "id": "6f3f2132",
   "metadata": {
    "scrolled": false
   },
   "outputs": [
    {
     "name": "stdout",
     "output_type": "stream",
     "text": [
      "fileName        date                 description  status    publicScore  privateScore  \r\n",
      "--------------  -------------------  -----------  --------  -----------  ------------  \r\n",
      "submission.csv  2023-05-05 07:41:21  tutorial     complete  0.77511                    \r\n"
     ]
    }
   ],
   "source": [
    "!kaggle competitions submissions -c titanic"
   ]
  }
 ],
 "metadata": {
  "kernelspec": {
   "display_name": "aiIntro",
   "language": "python",
   "name": "aiintro"
  },
  "language_info": {
   "codemirror_mode": {
    "name": "ipython",
    "version": 3
   },
   "file_extension": ".py",
   "mimetype": "text/x-python",
   "name": "python",
   "nbconvert_exporter": "python",
   "pygments_lexer": "ipython3",
   "version": "3.7.13"
  }
 },
 "nbformat": 4,
 "nbformat_minor": 5
}
